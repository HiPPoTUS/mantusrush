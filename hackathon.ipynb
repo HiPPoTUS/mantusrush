{
 "nbformat": 4,
 "nbformat_minor": 0,
 "metadata": {
  "colab": {
   "provenance": []
  },
  "kernelspec": {
   "name": "python3",
   "display_name": "Python 3"
  },
  "language_info": {
   "name": "python"
  }
 },
 "cells": [
  {
   "cell_type": "code",
   "execution_count": null,
   "metadata": {
    "id": "LxI7wvOkDi0z"
   },
   "source": [
    "import pandas as pd\n",
    "import numpy as np\n",
    "#import xarray as xr\n",
    "import matplotlib.pyplot as plt\n",
    "#from mpl_toolkits.mplot3d import Axes3D"
   ],
   "outputs": []
  },
  {
   "cell_type": "code",
   "source": [
    "#table_1_1 = df[0:41]\n",
    "#print(table_1_1)\n",
    "\n",
    "table_1 = pd.read_excel('/content/hackathon_data/Расписание движения судов.xlsx', sheet_name='Лист1', header=0, nrows=42, skiprows=0)\n",
    "#table_1.columns = ['Название судна', 'Ледовый класс', 'Скорость, узлы(по чистой воде)', 'Пункт начала плавания', 'Пункт окончания плавания', 'Дата начала плавания']\n",
    "table_1.head(3)\n"
   ],
   "metadata": {
    "colab": {
     "base_uri": "https://localhost:8080/",
     "height": 176
    },
    "id": "QdhDngm4j0xi",
    "outputId": "f14071d9-e06b-42ab-cd51-1b2e4613d96b"
   },
   "execution_count": null,
   "outputs": []
  },
  {
   "cell_type": "code",
   "execution_count": null,
   "source": [
    "# @title Ледовый класс\n",
    "\n",
    "from matplotlib import pyplot as plt\n",
    "import seaborn as sns\n",
    "table_1.groupby('Ледовый класс').size().plot(kind='barh', color=sns.palettes.mpl_palette('Dark2'))\n",
    "plt.gca().spines[['top', 'right',]].set_visible(False)"
   ],
   "metadata": {
    "collapsed": false
   },
   "outputs": []
  },
  {
   "cell_type": "code",
   "source": [
    "table_2 = pd.DataFrame({\n",
    "    \"Наименование\": [\"50 лет Победы\", \"Ямал\", \"Таймыр\", \"Вайгач\"],\n",
    "    \"Скорость, узлы (по чистой воде)\": [22, 21, 18.5, 18.5],\n",
    "    \"Ледовый класс\": [\"Arc 9\", \"Arc 9\", \"Arc 9\", \"Arc 9\"],\n",
    "    \"Начальное положение ледоколов на 27 февраля 2022\": [\n",
    "        \"Пролив Лонга\",\n",
    "        \"Рейд Мурманска\",\n",
    "        \"Мыс Желания\",\n",
    "        \"Победа месторождение\"]\n",
    "    })\n",
    "table_2.head(4)"
   ],
   "metadata": {
    "colab": {
     "base_uri": "https://localhost:8080/",
     "height": 173
    },
    "id": "1xZxUjOFp56-",
    "outputId": "2655c8e1-6ec4-4a89-e9d9-2d0e34c8d424"
   },
   "execution_count": null,
   "outputs": []
  },
  {
   "cell_type": "code",
   "source": [
    "table_3 = pd.read_excel('/content/hackathon_data/ГрафДанные.xlsx', sheet_name='points', header=0, nrows=47, skiprows=0, usecols=\"A,B,C,D,E\")\n",
    "table_3.head(3)\n",
    "#table_3.tail(3)\n"
   ],
   "metadata": {
    "colab": {
     "base_uri": "https://localhost:8080/",
     "height": 142
    },
    "id": "ecmpTtE6rrRG",
    "outputId": "97c80726-d7ef-4ce9-d0e6-00c5439e1044"
   },
   "execution_count": null,
   "outputs": []
  },
  {
   "cell_type": "code",
   "source": [
    "table_4 = pd.read_excel('/content/hackathon_data/ГрафДанные.xlsx', sheet_name='edges', header=0, nrows=74, skiprows=0, usecols=\"A,B,C,D,E,F\")\n",
    "table_4.head(3)\n",
    "#table_4.tail(3)"
   ],
   "metadata": {
    "colab": {
     "base_uri": "https://localhost:8080/",
     "height": 142
    },
    "id": "DN9tJDoVwS4z",
    "outputId": "059a225c-2417-48c1-c85e-8ab660935a9b"
   },
   "execution_count": null,
   "outputs": []
  },
  {
   "cell_type": "code",
   "source": [
    "lon = pd.read_excel('/content/hackathon_data/IntegrVelocity.xlsx', sheet_name='lon', header=None, nrows=269, skiprows=0)\n",
    "lon.info()\n"
   ],
   "metadata": {
    "colab": {
     "base_uri": "https://localhost:8080/"
    },
    "id": "gRE7LpTN1QxP",
    "outputId": "36515833-18d5-4346-ad71-c2857db7c8e5"
   },
   "execution_count": null,
   "outputs": []
  },
  {
   "cell_type": "code",
   "source": [
    "lat = pd.read_excel('/content/hackathon_data/IntegrVelocity.xlsx', sheet_name='lat', header=None, nrows=269, skiprows=0)\n",
    "lat.info()"
   ],
   "metadata": {
    "colab": {
     "base_uri": "https://localhost:8080/"
    },
    "id": "syScj5f-xg2t",
    "outputId": "8ea717f4-8252-440b-be89-2dcd553ebd3c"
   },
   "execution_count": null,
   "outputs": []
  },
  {
   "cell_type": "code",
   "source": [
    "xl = pd.ExcelFile('/content/hackathon_data/IntegrVelocity.xlsx')\n",
    "\n",
    "dfs = []\n",
    "for sheet_name in xl.sheet_names[2:]:\n",
    "    df = pd.read_excel('/content/hackathon_data/IntegrVelocity.xlsx', sheet_name=sheet_name, header=None, nrows=269, skiprows=0)\n",
    "    #df = xl.parse((sheet_name))\n",
    "    print(sheet_name)\n",
    "    dfs.append(df)\n",
    "    df.info()"
   ],
   "metadata": {
    "colab": {
     "base_uri": "https://localhost:8080/"
    },
    "id": "kUxmb9ka5uAT",
    "outputId": "057bf9f1-d630-4567-e849-bcc5f0cb9c25"
   },
   "execution_count": null,
   "outputs": []
  }
 ]
}
